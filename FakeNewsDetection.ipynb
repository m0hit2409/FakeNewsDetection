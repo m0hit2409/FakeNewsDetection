{
  "nbformat": 4,
  "nbformat_minor": 0,
  "metadata": {
    "kernelspec": {
      "display_name": "Python 3",
      "language": "python",
      "name": "python3"
    },
    "language_info": {
      "codemirror_mode": {
        "name": "ipython",
        "version": 3
      },
      "file_extension": ".py",
      "mimetype": "text/x-python",
      "name": "python",
      "nbconvert_exporter": "python",
      "pygments_lexer": "ipython3",
      "version": "3.8.5"
    },
    "colab": {
      "name": "mht.ipynb",
      "provenance": []
    },
    "accelerator": "GPU"
  },
  "cells": [
    {
      "cell_type": "code",
      "metadata": {
        "id": "T_x6f2_2hlmw"
      },
      "source": [
        "#https://betterprogramming.pub/how-to-use-artificial-intelligence-and-twitter-to-detect-fake-news-a-python-tutorial-75a4132acf7f\n",
        "#https://towardsdatascience.com/identifying-fake-news-the-liar-dataset-713eca8af6ac"
      ],
      "execution_count": null,
      "outputs": []
    },
    {
      "cell_type": "code",
      "metadata": {
        "colab": {
          "base_uri": "https://localhost:8080/"
        },
        "id": "lUb5Cicnhtwt",
        "outputId": "5cf7710c-a037-4fbe-a7f6-ba8618b46fff"
      },
      "source": [
        "from google.colab import drive\n",
        "drive.mount('/content/drive')"
      ],
      "execution_count": null,
      "outputs": [
        {
          "output_type": "stream",
          "text": [
            "Mounted at /content/drive\n"
          ],
          "name": "stdout"
        }
      ]
    },
    {
      "cell_type": "code",
      "metadata": {
        "colab": {
          "base_uri": "https://localhost:8080/"
        },
        "id": "utN8tcQWh0v2",
        "outputId": "6f083451-5001-4892-aa7d-33c20d072467"
      },
      "source": [
        "cd drive/MyDrive/BTP/"
      ],
      "execution_count": null,
      "outputs": [
        {
          "output_type": "stream",
          "text": [
            "/content/drive/MyDrive/BTP\n"
          ],
          "name": "stdout"
        }
      ]
    },
    {
      "cell_type": "code",
      "metadata": {
        "id": "yldwLBB-hlnI"
      },
      "source": [
        "import pandas as pd\n",
        "import numpy as np\n",
        "from sklearn.model_selection import train_test_split\n",
        "import tensorflow as tf\n",
        "# import nlpaug.augmenter.char as nac\n",
        "from gensim.models import Word2Vec\n",
        "# import nlpaug.augmenter.word as naw\n",
        "from sklearn.preprocessing import OneHotEncoder\n",
        "# import nlpaug.augmenter.sentence as nas\n",
        "# import nlpaug.flow as nafc\n",
        "# from textaugment import Wordnet\n",
        "from sklearn.feature_extraction.text import CountVectorizer\n",
        "from scipy.sparse import hstack\n",
        "from sklearn.preprocessing import Normalizer\n",
        "from sklearn.feature_extraction.text import TfidfVectorizer\n",
        "from sklearn import preprocessing\n",
        "# from nlpaug.util import Action\n",
        "from bs4 import BeautifulSoup\n",
        "import re\n",
        "import pickle\n",
        "# from textaugment import EDA"
      ],
      "execution_count": null,
      "outputs": []
    },
    {
      "cell_type": "code",
      "metadata": {
        "id": "TLZlSPgThlnK",
        "outputId": "3e8e3e45-9407-4fc9-fed6-f70d9615ec4d"
      },
      "source": [
        "# import nltk\n",
        "# nltk.download()"
      ],
      "execution_count": null,
      "outputs": [
        {
          "output_type": "stream",
          "text": [
            "showing info https://raw.githubusercontent.com/nltk/nltk_data/gh-pages/index.xml\n"
          ],
          "name": "stdout"
        },
        {
          "output_type": "execute_result",
          "data": {
            "text/plain": [
              "True"
            ]
          },
          "metadata": {
            "tags": []
          },
          "execution_count": 4
        }
      ]
    },
    {
      "cell_type": "code",
      "metadata": {
        "id": "PCzf0uROhlnZ"
      },
      "source": [
        "t = Wordnet()\n",
        "t1 = EDA()"
      ],
      "execution_count": null,
      "outputs": []
    },
    {
      "cell_type": "code",
      "metadata": {
        "id": "2-zs4cl_hlna"
      },
      "source": [
        "data = pd.read_csv('./final2_train.csv')\n",
        "data.drop(['Unnamed: 0'], axis = 1, inplace=True)"
      ],
      "execution_count": null,
      "outputs": []
    },
    {
      "cell_type": "code",
      "metadata": {
        "colab": {
          "base_uri": "https://localhost:8080/",
          "height": 345
        },
        "id": "04l-SDKWhlnb",
        "outputId": "e0d3f3ca-77b1-47af-f3ef-5833274466ef"
      },
      "source": [
        "data.head()"
      ],
      "execution_count": null,
      "outputs": [
        {
          "output_type": "execute_result",
          "data": {
            "text/html": [
              "<div>\n",
              "<style scoped>\n",
              "    .dataframe tbody tr th:only-of-type {\n",
              "        vertical-align: middle;\n",
              "    }\n",
              "\n",
              "    .dataframe tbody tr th {\n",
              "        vertical-align: top;\n",
              "    }\n",
              "\n",
              "    .dataframe thead th {\n",
              "        text-align: right;\n",
              "    }\n",
              "</style>\n",
              "<table border=\"1\" class=\"dataframe\">\n",
              "  <thead>\n",
              "    <tr style=\"text-align: right;\">\n",
              "      <th></th>\n",
              "      <th>Statement</th>\n",
              "      <th>Subject</th>\n",
              "      <th>Speaker</th>\n",
              "      <th>Speaker Job Title</th>\n",
              "      <th>State info</th>\n",
              "      <th>Party</th>\n",
              "      <th>barely true counts</th>\n",
              "      <th>false counts</th>\n",
              "      <th>half true counts</th>\n",
              "      <th>mostly true counts</th>\n",
              "      <th>pants on fire counts</th>\n",
              "      <th>context</th>\n",
              "    </tr>\n",
              "  </thead>\n",
              "  <tbody>\n",
              "    <tr>\n",
              "      <th>0</th>\n",
              "      <td>Says the Annies List political group supports ...</td>\n",
              "      <td>abortion</td>\n",
              "      <td>dwayne-bohac</td>\n",
              "      <td>State representative</td>\n",
              "      <td>Texas</td>\n",
              "      <td>republican</td>\n",
              "      <td>0</td>\n",
              "      <td>1</td>\n",
              "      <td>0.0</td>\n",
              "      <td>0.0</td>\n",
              "      <td>0.0</td>\n",
              "      <td>a mailer</td>\n",
              "    </tr>\n",
              "    <tr>\n",
              "      <th>1</th>\n",
              "      <td>When did the decline of coal start? It started...</td>\n",
              "      <td>energy,history,job-accomplishments</td>\n",
              "      <td>scott-surovell</td>\n",
              "      <td>State delegate</td>\n",
              "      <td>Virginia</td>\n",
              "      <td>democrat</td>\n",
              "      <td>0</td>\n",
              "      <td>0</td>\n",
              "      <td>1.0</td>\n",
              "      <td>1.0</td>\n",
              "      <td>0.0</td>\n",
              "      <td>a floor speech.</td>\n",
              "    </tr>\n",
              "    <tr>\n",
              "      <th>2</th>\n",
              "      <td>Hillary Clinton agrees with John McCain \"by vo...</td>\n",
              "      <td>foreign-policy</td>\n",
              "      <td>barack-obama</td>\n",
              "      <td>President</td>\n",
              "      <td>Illinois</td>\n",
              "      <td>democrat</td>\n",
              "      <td>70</td>\n",
              "      <td>71</td>\n",
              "      <td>160.0</td>\n",
              "      <td>163.0</td>\n",
              "      <td>9.0</td>\n",
              "      <td>Denver</td>\n",
              "    </tr>\n",
              "    <tr>\n",
              "      <th>3</th>\n",
              "      <td>Health care reform legislation is likely to ma...</td>\n",
              "      <td>health-care</td>\n",
              "      <td>blog-posting</td>\n",
              "      <td>NaN</td>\n",
              "      <td>NaN</td>\n",
              "      <td>none</td>\n",
              "      <td>7</td>\n",
              "      <td>19</td>\n",
              "      <td>3.0</td>\n",
              "      <td>5.0</td>\n",
              "      <td>44.0</td>\n",
              "      <td>a news release</td>\n",
              "    </tr>\n",
              "    <tr>\n",
              "      <th>4</th>\n",
              "      <td>The economic turnaround started at the end of ...</td>\n",
              "      <td>economy,jobs</td>\n",
              "      <td>charlie-crist</td>\n",
              "      <td>NaN</td>\n",
              "      <td>Florida</td>\n",
              "      <td>democrat</td>\n",
              "      <td>15</td>\n",
              "      <td>9</td>\n",
              "      <td>20.0</td>\n",
              "      <td>19.0</td>\n",
              "      <td>2.0</td>\n",
              "      <td>an interview on CNN</td>\n",
              "    </tr>\n",
              "  </tbody>\n",
              "</table>\n",
              "</div>"
            ],
            "text/plain": [
              "                                           Statement  ...              context\n",
              "0  Says the Annies List political group supports ...  ...             a mailer\n",
              "1  When did the decline of coal start? It started...  ...      a floor speech.\n",
              "2  Hillary Clinton agrees with John McCain \"by vo...  ...               Denver\n",
              "3  Health care reform legislation is likely to ma...  ...       a news release\n",
              "4  The economic turnaround started at the end of ...  ...  an interview on CNN\n",
              "\n",
              "[5 rows x 12 columns]"
            ]
          },
          "metadata": {
            "tags": []
          },
          "execution_count": 12
        }
      ]
    },
    {
      "cell_type": "code",
      "metadata": {
        "id": "R3FlaKyfhlne"
      },
      "source": [
        "def augment(data):\n",
        "    for a,b,c,d,e,f,g,h,i,j,k,l,m in zip(data['Label'], data['Statement'], data['Subject'], data['Speaker'], data['Speaker Job Title'], data['State info'], data['Party'], data['barely true counts'], data['false counts'], data['half true counts'], data['mostly true counts'], data['pants on fire counts'], data['context']):\n",
        "        a1 = t.augment(b)\n",
        "        data = data.append({'Statement':a1, 'Label': a, 'Subject':c, 'Speaker':d, 'Speaker Job Title':e, 'State info':f, 'Party':g, 'barely true counts':h, 'false counts':i, 'half true counts':j, 'mostly true counts':k, 'pants on fire counts':l, 'context':m }, ignore_index=True)\n",
        "        a2 = t1.random_swap(b)\n",
        "        data = data.append({'Statement':a2, 'Label': a, 'Subject':c, 'Speaker':d, 'Speaker Job Title':e, 'State info':f, 'Party':g, 'barely true counts':h, 'false counts':i, 'half true counts':j, 'mostly true counts':k, 'pants on fire counts':l, 'context':m }, ignore_index=True)\n",
        "        aug = naw.SynonymAug(aug_src='wordnet')\n",
        "        a3 = aug.augment(b)\n",
        "        data = data.append({'Statement':a3, 'Label': a, 'Subject':c, 'Speaker':d, 'Speaker Job Title':e, 'State info':f, 'Party':g, 'barely true counts':h, 'false counts':i, 'half true counts':j, 'mostly true counts':k, 'pants on fire counts':l, 'context':m }, ignore_index=True)\n",
        "    return data"
      ],
      "execution_count": null,
      "outputs": []
    },
    {
      "cell_type": "code",
      "metadata": {
        "id": "3Ficvv8eA4z1"
      },
      "source": [
        "y = data['Label']\n",
        "data.drop(['Label'], axis = 1, inplace=True)\n",
        "X = data"
      ],
      "execution_count": null,
      "outputs": []
    },
    {
      "cell_type": "code",
      "metadata": {
        "id": "2lY2nj9JA9Aa"
      },
      "source": [
        "train_data, test_data, y_train, y_test = train_test_split(X, y, test_size=0.1, random_state=33, stratify=y)\n",
        "train_data, valid_data, y_train, y_valid = train_test_split(train_data, y_train, test_size=0.1, random_state=33, stratify=y_train)\n"
      ],
      "execution_count": null,
      "outputs": []
    },
    {
      "cell_type": "code",
      "metadata": {
        "id": "wGDnvcMNhlnh"
      },
      "source": [
        "# train_data = augment(train_data)"
      ],
      "execution_count": null,
      "outputs": []
    },
    {
      "cell_type": "code",
      "metadata": {
        "colab": {
          "base_uri": "https://localhost:8080/"
        },
        "id": "xYqm8-LWhlnk",
        "outputId": "908d5867-b2c4-4df5-d509-476df984682b"
      },
      "source": [
        "train_data['Label'].value_counts()"
      ],
      "execution_count": null,
      "outputs": [
        {
          "output_type": "execute_result",
          "data": {
            "text/plain": [
              "half-true      8456\n",
              "FALSE          7972\n",
              "mostly-true    7848\n",
              "pants-fire     6712\n",
              "TRUE           6704\n",
              "barely-true    6616\n",
              "Name: Label, dtype: int64"
            ]
          },
          "metadata": {
            "tags": []
          },
          "execution_count": 12
        }
      ]
    },
    {
      "cell_type": "code",
      "metadata": {
        "id": "tygAC15Khlnn",
        "outputId": "ade1339c-c7e3-4faf-f33a-627bd82be5ae"
      },
      "source": [
        "train_data['Label'].value_counts().plot(kind='bar', title='Count (Labels)')"
      ],
      "execution_count": null,
      "outputs": [
        {
          "output_type": "execute_result",
          "data": {
            "text/plain": [
              "<AxesSubplot:title={'center':'Count (Labels)'}>"
            ]
          },
          "metadata": {
            "tags": []
          },
          "execution_count": 336
        },
        {
          "output_type": "display_data",
          "data": {
            "image/png": "[encoded data removed]",
            "text/plain": [
              "<Figure size 432x288 with 1 Axes>"
            ]
          },
          "metadata": {
            "tags": [],
            "needs_background": "light"
          }
        }
      ]
    },
    {
      "cell_type": "code",
      "metadata": {
        "id": "0o0SQ7Wwhlno"
      },
      "source": [
        "def duplicate(data):\n",
        "    for a,b,c,d,e,f,g,h,i,j,k,l,m in zip(data['Label'], data['Statement'], data['Subject'], data['Speaker'], data['Speaker Job Title'], data['State info'], data['Party'], data['barely true counts'], data['false counts'], data['half true counts'], data['mostly true counts'], data['pants on fire counts'], data['context']): \n",
        "        if a=='pants-fire':\n",
        "            aug = naw.SynonymAug(aug_src='wordnet')\n",
        "            a3 = aug.augment(b)\n",
        "            data = data.append({'Statement':a3, 'Label': a, 'Subject':c, 'Speaker':d, 'Speaker Job Title':e, 'State info':f, 'Party':g, 'barely true counts':h, 'false counts':i, 'half true counts':j, 'mostly true counts':k, 'pants on fire counts':l, 'context':m }, ignore_index=True)\n",
        "    return data"
      ],
      "execution_count": null,
      "outputs": []
    },
    {
      "cell_type": "code",
      "metadata": {
        "id": "WH3R4ARWhlnp"
      },
      "source": [
        "# train_data = duplicate(train_data)"
      ],
      "execution_count": null,
      "outputs": []
    },
    {
      "cell_type": "code",
      "metadata": {
        "id": "G1dR8nx5hlnp",
        "outputId": "439f0d42-34f6-499c-ac3c-61636f0a2dc1"
      },
      "source": [
        "train_data['Label'].value_counts().plot(kind='bar', title='Count (Labels)')"
      ],
      "execution_count": null,
      "outputs": [
        {
          "output_type": "execute_result",
          "data": {
            "text/plain": [
              "<AxesSubplot:title={'center':'Count (Labels)'}>"
            ]
          },
          "metadata": {
            "tags": []
          },
          "execution_count": 339
        },
        {
          "output_type": "display_data",
          "data": {
            "image/png": "[encoded data removed]",
            "text/plain": [
              "<Figure size 432x288 with 1 Axes>"
            ]
          },
          "metadata": {
            "tags": [],
            "needs_background": "light"
          }
        }
      ]
    },
    {
      "cell_type": "code",
      "metadata": {
        "id": "l9eDYAYahlnq"
      },
      "source": [
        "# train_data.to_csv('final1_train.csv')"
      ],
      "execution_count": null,
      "outputs": []
    },
    {
      "cell_type": "code",
      "metadata": {
        "id": "bFikcBa7hlnq"
      },
      "source": [
        "LE = preprocessing.LabelEncoder()\n",
        "y_train = LE.fit_transform(y_train)\n",
        "y_test = LE.fit_transform(y_test)\n",
        "y_valid = LE.fit_transform(y_valid)"
      ],
      "execution_count": null,
      "outputs": []
    },
    {
      "cell_type": "code",
      "metadata": {
        "id": "PGSL_YR1hlnq"
      },
      "source": [
        "stopwords= set(['br', 'the', 'i', 'me', 'my', 'myself', 'we', 'our', 'ours', 'ourselves', 'you', \"you're\", \"you've\",\\\n",
        "            \"you'll\", \"you'd\", 'your', 'yours', 'yourself', 'yourselves', 'he', 'him', 'his', 'himself', \\\n",
        "            'she', \"she's\", 'her', 'hers', 'herself', 'it', \"it's\", 'its', 'itself', 'they', 'them', 'their',\\\n",
        "            'theirs', 'themselves', 'what', 'which', 'who', 'whom', 'this', 'that', \"that'll\", 'these', 'those', \\\n",
        "            'am', 'is', 'are', 'was', 'were', 'be', 'been', 'being', 'have', 'has', 'had', 'having', 'do', 'does', \\\n",
        "            'did', 'doing', 'a', 'an', 'the', 'and', 'but', 'if', 'or', 'because', 'as', 'until', 'while', 'of', \\\n",
        "            'at', 'by', 'for', 'with', 'about', 'against', 'between', 'into', 'through', 'during', 'before', 'after',\\\n",
        "            'above', 'below', 'to', 'from', 'up', 'down', 'in', 'out', 'on', 'off', 'over', 'under', 'again', 'further',\\\n",
        "            'then', 'once', 'here', 'there', 'when', 'where', 'why', 'how', 'all', 'any', 'both', 'each', 'few', 'more',\\\n",
        "            'most', 'other', 'some', 'such', 'only', 'own', 'same', 'so', 'than', 'too', 'very', \\\n",
        "            's', 't', 'can', 'will', 'just', 'don', \"don't\", 'should', \"should've\", 'now', 'd', 'll', 'm', 'o', 're', \\\n",
        "            've', 'y', 'ain', 'aren', \"aren't\", 'couldn', \"couldn't\", 'didn', \"didn't\", 'doesn', \"doesn't\", 'hadn',\\\n",
        "            \"hadn't\", 'hasn', \"hasn't\", 'haven', \"haven't\", 'isn', \"isn't\", 'ma', 'mightn', \"mightn't\", 'mustn',\\\n",
        "            \"mustn't\", 'needn', \"needn't\", 'shan', \"shan't\", 'shouldn', \"shouldn't\", 'wasn', \"wasn't\", 'weren', \"weren't\", \\\n",
        "            'won', \"won't\", 'wouldn', \"wouldn't\"])"
      ],
      "execution_count": null,
      "outputs": []
    },
    {
      "cell_type": "code",
      "metadata": {
        "id": "iFzbSxNChlns"
      },
      "source": [
        "# https://stackoverflow.com/a/47091490/4084039\n",
        "import re\n",
        "\n",
        "def decontracted(phrase):\n",
        "    # specific\n",
        "    phrase = re.sub(r\"won't\", \"will not\", phrase)\n",
        "    phrase = re.sub(r\"can\\'t\", \"can not\", phrase)\n",
        "\n",
        "    # general\n",
        "    phrase = re.sub(r\"n\\'t\", \" not\", phrase)\n",
        "    phrase = re.sub(r\"\\'re\", \" are\", phrase)\n",
        "    phrase = re.sub(r\"\\'s\", \" is\", phrase)\n",
        "    phrase = re.sub(r\"\\'d\", \" would\", phrase)\n",
        "    phrase = re.sub(r\"\\'ll\", \" will\", phrase)\n",
        "    phrase = re.sub(r\"\\'t\", \" not\", phrase)\n",
        "    phrase = re.sub(r\"\\'ve\", \" have\", phrase)\n",
        "    phrase = re.sub(r\"\\'m\", \" am\", phrase)\n",
        "    return phrase"
      ],
      "execution_count": null,
      "outputs": []
    },
    {
      "cell_type": "code",
      "metadata": {
        "id": "o06fXNWYhlns"
      },
      "source": [
        "# Combining all the above stundents \n",
        "from tqdm import tqdm\n",
        "def preprocess(data):\n",
        "    preprocessed_statement = []\n",
        "    for sentance in tqdm(data['Statement'].values):\n",
        "        sentance = re.sub(r\"http\\S+\", \"\", sentance)\n",
        "        sentance = BeautifulSoup(sentance, 'lxml').get_text()\n",
        "        sentance = decontracted(sentance)\n",
        "        sentance = re.sub(\"\\S*\\d\\S*\", \"\", sentance).strip()\n",
        "        sentance = re.sub('[^A-Za-z]+', ' ', sentance)\n",
        "        # https://gist.github.com/sebleier/554280\n",
        "        sentance = ' '.join(e.lower() for e in sentance.split() if e.lower() not in stopwords)\n",
        "        preprocessed_statement.append(sentance.strip())\n",
        "    return preprocessed_statement"
      ],
      "execution_count": null,
      "outputs": []
    },
    {
      "cell_type": "code",
      "metadata": {
        "colab": {
          "base_uri": "https://localhost:8080/"
        },
        "id": "7e_JGdlahlns",
        "outputId": "6f5a6085-11aa-4089-f1de-4d6256970eb8"
      },
      "source": [
        "train_preprocessed_text = preprocess(train_data)\n",
        "test_preprocessed_text = preprocess(test_data)\n",
        "valid_preprocessed_text = preprocess(valid_data)"
      ],
      "execution_count": null,
      "outputs": [
        {
          "output_type": "stream",
          "text": [
            "100%|██████████| 37955/37955 [00:14<00:00, 2605.51it/s]\n",
            "100%|██████████| 4686/4686 [00:01<00:00, 2576.59it/s]\n",
            "100%|██████████| 4218/4218 [00:01<00:00, 2555.08it/s]\n"
          ],
          "name": "stderr"
        }
      ]
    },
    {
      "cell_type": "code",
      "metadata": {
        "scrolled": true,
        "id": "BRIttMARhlnt"
      },
      "source": [
        "    \n",
        "vectorizer = TfidfVectorizer(min_df=5, ngram_range=(1,4), max_features=5000)\n",
        "vocab = vectorizer.fit(train_preprocessed_text)\n"
      ],
      "execution_count": null,
      "outputs": []
    },
    {
      "cell_type": "code",
      "metadata": {
        "id": "uADEqihChlnt"
      },
      "source": [
        "\n",
        "X_train_statement = vectorizer.transform(train_preprocessed_text)\n",
        "X_test_statement = vectorizer.transform(test_preprocessed_text)\n",
        "X_valid_statement = vectorizer.transform(valid_preprocessed_text)"
      ],
      "execution_count": null,
      "outputs": []
    },
    {
      "cell_type": "code",
      "metadata": {
        "id": "AI0RbNn9hlnu"
      },
      "source": [
        "with open('glove_vectors', 'rb') as f:\n",
        "    model = pickle.load(f)\n",
        "    glove_words =  set(model.keys())"
      ],
      "execution_count": null,
      "outputs": []
    },
    {
      "cell_type": "code",
      "metadata": {
        "id": "7RsBwoephlnu"
      },
      "source": [
        "dictionary = dict(zip(vectorizer.get_feature_names(), list(vectorizer.idf_)))\n",
        "tfidf_words = set(vectorizer.get_feature_names())"
      ],
      "execution_count": null,
      "outputs": []
    },
    {
      "cell_type": "code",
      "metadata": {
        "id": "QpOLzRHGhlnx"
      },
      "source": [
        "def w2v_tfidf(data):\n",
        "    \n",
        "    tfidf_w2v_vectors = []; # the avg-w2v for each sentence/review is stored in this list\n",
        "    for sentence in tqdm(data): # for each review/sentence\n",
        "        vector = np.zeros(300) # as word vectors are of zero length\n",
        "        tf_idf_weight =0; # num of words with a valid vector in the sentence/review\n",
        "        for word in sentence.split(): # for each word in a review/sentence\n",
        "            if (word in glove_words) and (word in tfidf_words):\n",
        "                vec = model[word] # getting the vector for each word\n",
        "              # here we are multiplying idf value(dictionary[word]) and the tf value((sentence.count(word)/len(sentence.split())))\n",
        "                tf_idf = dictionary[word]*(sentence.count(word)/len(sentence.split())) # getting the tfidf value for each word\n",
        "                vector += (vec * tf_idf) # calculating tfidf weighted w2v\n",
        "                tf_idf_weight += tf_idf\n",
        "        if tf_idf_weight != 0:\n",
        "            vector /= tf_idf_weight\n",
        "        tfidf_w2v_vectors.append(vector)\n",
        "    return np.array(tfidf_w2v_vectors)"
      ],
      "execution_count": null,
      "outputs": []
    },
    {
      "cell_type": "code",
      "metadata": {
        "colab": {
          "base_uri": "https://localhost:8080/"
        },
        "id": "M3yiPCyshlnx",
        "outputId": "065b436b-1531-4b4f-ffd4-7ddbd9bbc599"
      },
      "source": [
        "train_tfidfWW2Vec = w2v_tfidf(train_preprocessed_text)\n",
        "test_tfidfWW2Vec = w2v_tfidf(test_preprocessed_text)\n",
        "valid_tfidfWW2Vec = w2v_tfidf(valid_preprocessed_text)"
      ],
      "execution_count": null,
      "outputs": [
        {
          "output_type": "stream",
          "text": [
            "100%|██████████| 37955/37955 [00:03<00:00, 12346.57it/s]\n",
            "100%|██████████| 4686/4686 [00:00<00:00, 12807.57it/s]\n",
            "100%|██████████| 4218/4218 [00:00<00:00, 13226.95it/s]\n"
          ],
          "name": "stderr"
        }
      ]
    },
    {
      "cell_type": "code",
      "metadata": {
        "id": "YbO4_57Zhlny"
      },
      "source": [
        "def preprocess_cat(data):\n",
        "    preprocessed_cat = []\n",
        "    for sentance in tqdm(data):\n",
        "        if type(sentance)!= str:\n",
        "            preprocessed_cat.append('None')\n",
        "        else:\n",
        "            sentance = re.sub('-', ' ', sentance)\n",
        "            sentance = re.sub(',', ' ', sentance)\n",
        "            # https://gist.github.com/sebleier/554280\n",
        "            preprocessed_cat.append(sentance.strip())\n",
        "    return preprocessed_cat"
      ],
      "execution_count": null,
      "outputs": []
    },
    {
      "cell_type": "code",
      "metadata": {
        "colab": {
          "base_uri": "https://localhost:8080/"
        },
        "id": "sTA15withlnz",
        "outputId": "3b8dbb67-e88c-4ddf-b582-871ff69f8160"
      },
      "source": [
        "train_data['Subject'] = preprocess_cat(train_data['Subject'].values)\n",
        "test_data['Subject'] = preprocess_cat(test_data['Subject'].values)\n",
        "valid_data['Subject'] = preprocess_cat(valid_data['Subject'].values)"
      ],
      "execution_count": null,
      "outputs": [
        {
          "output_type": "stream",
          "text": [
            "100%|██████████| 37955/37955 [00:00<00:00, 311353.04it/s]\n",
            "100%|██████████| 4686/4686 [00:00<00:00, 328670.71it/s]\n",
            "/usr/local/lib/python3.7/dist-packages/ipykernel_launcher.py:2: SettingWithCopyWarning: \n",
            "A value is trying to be set on a copy of a slice from a DataFrame.\n",
            "Try using .loc[row_indexer,col_indexer] = value instead\n",
            "\n",
            "See the caveats in the documentation: https://pandas.pydata.org/pandas-docs/stable/user_guide/indexing.html#returning-a-view-versus-a-copy\n",
            "  \n",
            "100%|██████████| 4218/4218 [00:00<00:00, 254679.62it/s]\n"
          ],
          "name": "stderr"
        }
      ]
    },
    {
      "cell_type": "code",
      "metadata": {
        "colab": {
          "base_uri": "https://localhost:8080/"
        },
        "id": "-3bDNnVyhln0",
        "outputId": "e069fdf4-4f49-4768-8cf9-7d17d6265bc6"
      },
      "source": [
        "train_data['Speaker'] = preprocess_cat(train_data['Speaker'].values)\n",
        "test_data['Speaker'] = preprocess_cat(test_data['Speaker'].values)\n",
        "valid_data['Speaker'] = preprocess_cat(valid_data['Speaker'].values)"
      ],
      "execution_count": null,
      "outputs": [
        {
          "output_type": "stream",
          "text": [
            "100%|██████████| 37955/37955 [00:00<00:00, 358699.56it/s]\n",
            "100%|██████████| 4686/4686 [00:00<00:00, 370099.58it/s]\n",
            "/usr/local/lib/python3.7/dist-packages/ipykernel_launcher.py:2: SettingWithCopyWarning: \n",
            "A value is trying to be set on a copy of a slice from a DataFrame.\n",
            "Try using .loc[row_indexer,col_indexer] = value instead\n",
            "\n",
            "See the caveats in the documentation: https://pandas.pydata.org/pandas-docs/stable/user_guide/indexing.html#returning-a-view-versus-a-copy\n",
            "  \n",
            "100%|██████████| 4218/4218 [00:00<00:00, 282400.98it/s]\n"
          ],
          "name": "stderr"
        }
      ]
    },
    {
      "cell_type": "code",
      "metadata": {
        "colab": {
          "base_uri": "https://localhost:8080/"
        },
        "id": "c0nnzCTthln1",
        "outputId": "4cdb8267-31e6-4123-fe16-b2d256ea893a"
      },
      "source": [
        "train_data['Speaker Job Title'] = preprocess_cat(train_data['Speaker Job Title'].values)\n",
        "test_data['Speaker Job Title'] = preprocess_cat(test_data['Speaker Job Title'].values)\n",
        "valid_data['Speaker Job Title'] = preprocess_cat(valid_data['Speaker Job Title'].values)"
      ],
      "execution_count": null,
      "outputs": [
        {
          "output_type": "stream",
          "text": [
            "100%|██████████| 37955/37955 [00:00<00:00, 485463.99it/s]\n",
            "100%|██████████| 4686/4686 [00:00<00:00, 477874.70it/s]\n",
            "/usr/local/lib/python3.7/dist-packages/ipykernel_launcher.py:2: SettingWithCopyWarning: \n",
            "A value is trying to be set on a copy of a slice from a DataFrame.\n",
            "Try using .loc[row_indexer,col_indexer] = value instead\n",
            "\n",
            "See the caveats in the documentation: https://pandas.pydata.org/pandas-docs/stable/user_guide/indexing.html#returning-a-view-versus-a-copy\n",
            "  \n",
            "100%|██████████| 4218/4218 [00:00<00:00, 356038.93it/s]\n"
          ],
          "name": "stderr"
        }
      ]
    },
    {
      "cell_type": "code",
      "metadata": {
        "colab": {
          "base_uri": "https://localhost:8080/"
        },
        "id": "Lac1BxsJhln2",
        "outputId": "cf645bc7-99c1-4b54-dd28-6b4d4bd0893c"
      },
      "source": [
        "train_data['State info'] = preprocess_cat(train_data['State info'].values)\n",
        "test_data['State info'] = preprocess_cat(test_data['State info'].values)\n",
        "valid_data['State info'] = preprocess_cat(valid_data['State info'].values)"
      ],
      "execution_count": null,
      "outputs": [
        {
          "output_type": "stream",
          "text": [
            "100%|██████████| 37955/37955 [00:00<00:00, 501400.97it/s]\n",
            "100%|██████████| 4686/4686 [00:00<00:00, 455894.15it/s]\n",
            "/usr/local/lib/python3.7/dist-packages/ipykernel_launcher.py:2: SettingWithCopyWarning: \n",
            "A value is trying to be set on a copy of a slice from a DataFrame.\n",
            "Try using .loc[row_indexer,col_indexer] = value instead\n",
            "\n",
            "See the caveats in the documentation: https://pandas.pydata.org/pandas-docs/stable/user_guide/indexing.html#returning-a-view-versus-a-copy\n",
            "  \n",
            "100%|██████████| 4218/4218 [00:00<00:00, 381695.24it/s]\n"
          ],
          "name": "stderr"
        }
      ]
    },
    {
      "cell_type": "code",
      "metadata": {
        "colab": {
          "base_uri": "https://localhost:8080/"
        },
        "id": "PZrha5bYhln2",
        "outputId": "25c4b35e-02f0-44a3-b084-316fe6eaf808"
      },
      "source": [
        "train_data['Party'] = preprocess_cat(train_data['Party'].values)\n",
        "test_data['Party'] = preprocess_cat(test_data['Party'].values)\n",
        "valid_data['Party'] = preprocess_cat(valid_data['Party'].values)"
      ],
      "execution_count": null,
      "outputs": [
        {
          "output_type": "stream",
          "text": [
            "100%|██████████| 37955/37955 [00:00<00:00, 415724.97it/s]\n",
            "100%|██████████| 4686/4686 [00:00<00:00, 360210.19it/s]\n",
            "/usr/local/lib/python3.7/dist-packages/ipykernel_launcher.py:2: SettingWithCopyWarning: \n",
            "A value is trying to be set on a copy of a slice from a DataFrame.\n",
            "Try using .loc[row_indexer,col_indexer] = value instead\n",
            "\n",
            "See the caveats in the documentation: https://pandas.pydata.org/pandas-docs/stable/user_guide/indexing.html#returning-a-view-versus-a-copy\n",
            "  \n",
            "100%|██████████| 4218/4218 [00:00<00:00, 412400.62it/s]\n"
          ],
          "name": "stderr"
        }
      ]
    },
    {
      "cell_type": "code",
      "metadata": {
        "colab": {
          "base_uri": "https://localhost:8080/"
        },
        "id": "W6ROiqluhln3",
        "outputId": "993cab72-3cd8-4553-e907-9d62b6034981"
      },
      "source": [
        "train_data['context'] = preprocess_cat(train_data['context'].values)\n",
        "test_data['context'] = preprocess_cat(test_data['context'].values)\n",
        "valid_data['context'] = preprocess_cat(valid_data['context'].values)"
      ],
      "execution_count": null,
      "outputs": [
        {
          "output_type": "stream",
          "text": [
            "100%|██████████| 37955/37955 [00:00<00:00, 366227.75it/s]\n",
            "100%|██████████| 4686/4686 [00:00<00:00, 360236.59it/s]\n",
            "/usr/local/lib/python3.7/dist-packages/ipykernel_launcher.py:2: SettingWithCopyWarning: \n",
            "A value is trying to be set on a copy of a slice from a DataFrame.\n",
            "Try using .loc[row_indexer,col_indexer] = value instead\n",
            "\n",
            "See the caveats in the documentation: https://pandas.pydata.org/pandas-docs/stable/user_guide/indexing.html#returning-a-view-versus-a-copy\n",
            "  \n",
            "100%|██████████| 4218/4218 [00:00<00:00, 208413.23it/s]\n"
          ],
          "name": "stderr"
        }
      ]
    },
    {
      "cell_type": "code",
      "metadata": {
        "colab": {
          "base_uri": "https://localhost:8080/",
          "height": 216
        },
        "id": "n9_1emFDhln3",
        "outputId": "5b5ccca8-ff18-4828-c8c0-42fe0c12b35c"
      },
      "source": [
        "train_data.head(2)"
      ],
      "execution_count": null,
      "outputs": [
        {
          "output_type": "execute_result",
          "data": {
            "text/html": [
              "<div>\n",
              "<style scoped>\n",
              "    .dataframe tbody tr th:only-of-type {\n",
              "        vertical-align: middle;\n",
              "    }\n",
              "\n",
              "    .dataframe tbody tr th {\n",
              "        vertical-align: top;\n",
              "    }\n",
              "\n",
              "    .dataframe thead th {\n",
              "        text-align: right;\n",
              "    }\n",
              "</style>\n",
              "<table border=\"1\" class=\"dataframe\">\n",
              "  <thead>\n",
              "    <tr style=\"text-align: right;\">\n",
              "      <th></th>\n",
              "      <th>Statement</th>\n",
              "      <th>Subject</th>\n",
              "      <th>Speaker</th>\n",
              "      <th>Speaker Job Title</th>\n",
              "      <th>State info</th>\n",
              "      <th>Party</th>\n",
              "      <th>barely true counts</th>\n",
              "      <th>false counts</th>\n",
              "      <th>half true counts</th>\n",
              "      <th>mostly true counts</th>\n",
              "      <th>pants on fire counts</th>\n",
              "      <th>context</th>\n",
              "    </tr>\n",
              "  </thead>\n",
              "  <tbody>\n",
              "    <tr>\n",
              "      <th>34378</th>\n",
              "      <td>Illegal immigrants cut down the grass around t...</td>\n",
              "      <td>economy immigration jobs</td>\n",
              "      <td>facebook posts</td>\n",
              "      <td>Social media posting</td>\n",
              "      <td>None</td>\n",
              "      <td>none</td>\n",
              "      <td>14</td>\n",
              "      <td>18</td>\n",
              "      <td>15.0</td>\n",
              "      <td>11.0</td>\n",
              "      <td>36.0</td>\n",
              "      <td>a Facebook comment</td>\n",
              "    </tr>\n",
              "    <tr>\n",
              "      <th>31669</th>\n",
              "      <td>In April 2009 the Democrat be in control, and ...</td>\n",
              "      <td>polls</td>\n",
              "      <td>nancy pelosi</td>\n",
              "      <td>House Minority Leader</td>\n",
              "      <td>California</td>\n",
              "      <td>democrat</td>\n",
              "      <td>3</td>\n",
              "      <td>7</td>\n",
              "      <td>11.0</td>\n",
              "      <td>2.0</td>\n",
              "      <td>3.0</td>\n",
              "      <td>an interview with Jon Stewart on \"The Daily Show\"</td>\n",
              "    </tr>\n",
              "  </tbody>\n",
              "</table>\n",
              "</div>"
            ],
            "text/plain": [
              "                                               Statement  ...                                            context\n",
              "34378  Illegal immigrants cut down the grass around t...  ...                                 a Facebook comment\n",
              "31669  In April 2009 the Democrat be in control, and ...  ...  an interview with Jon Stewart on \"The Daily Show\"\n",
              "\n",
              "[2 rows x 12 columns]"
            ]
          },
          "metadata": {
            "tags": []
          },
          "execution_count": 35
        }
      ]
    },
    {
      "cell_type": "code",
      "metadata": {
        "id": "EqvDorobhln4"
      },
      "source": [
        "# train_data.isnull().sum()"
      ],
      "execution_count": null,
      "outputs": []
    },
    {
      "cell_type": "code",
      "metadata": {
        "id": "4uUpsjq3hln4"
      },
      "source": [
        "enc = CountVectorizer()\n",
        "enc.fit(train_data['Subject'].values)\n",
        "train_subject = enc.transform(train_data['Subject'].values)\n",
        "test_subject = enc.transform(test_data['Subject'].values)\n",
        "valid_subject = enc.transform(valid_data['Subject'].values)"
      ],
      "execution_count": null,
      "outputs": []
    },
    {
      "cell_type": "code",
      "metadata": {
        "id": "vpgiGMJjhln5"
      },
      "source": [
        "enc = CountVectorizer()\n",
        "enc.fit(train_data['Speaker'].values)\n",
        "train_speaker = enc.transform(train_data['Speaker'].values)\n",
        "test_speaker = enc.transform(test_data['Speaker'].values)\n",
        "valid_speaker = enc.transform(valid_data['Speaker'].values)"
      ],
      "execution_count": null,
      "outputs": []
    },
    {
      "cell_type": "code",
      "metadata": {
        "id": "2ubzzUjrhln5"
      },
      "source": [
        "enc = CountVectorizer()\n",
        "enc.fit(train_data['Speaker Job Title'].values)\n",
        "train_jtitle = enc.transform(train_data['Speaker Job Title'].values)\n",
        "test_jtitle = enc.transform(test_data['Speaker Job Title'].values)\n",
        "valid_jtitle = enc.transform(valid_data['Speaker Job Title'].values)"
      ],
      "execution_count": null,
      "outputs": []
    },
    {
      "cell_type": "code",
      "metadata": {
        "id": "wbx-Xqk9hln6"
      },
      "source": [
        "enc = CountVectorizer()\n",
        "enc.fit(train_data['State info'].values)\n",
        "train_state = enc.transform(train_data['State info'].values)\n",
        "test_state = enc.transform(test_data['State info'].values)\n",
        "valid_state = enc.transform(valid_data['State info'].values)"
      ],
      "execution_count": null,
      "outputs": []
    },
    {
      "cell_type": "code",
      "metadata": {
        "id": "WgdNHxlIhln6"
      },
      "source": [
        "enc = CountVectorizer()\n",
        "enc.fit(train_data['Party'].values)\n",
        "train_party = enc.transform(train_data['Party'].values)\n",
        "test_party = enc.transform(test_data['Party'].values)\n",
        "valid_party = enc.transform(valid_data['Party'].values)"
      ],
      "execution_count": null,
      "outputs": []
    },
    {
      "cell_type": "code",
      "metadata": {
        "id": "ypsx92Jvhln6"
      },
      "source": [
        "enc = CountVectorizer()\n",
        "enc.fit(train_data['context'].values)\n",
        "train_context = enc.transform(train_data['context'].values)\n",
        "test_context = enc.transform(test_data['context'].values)\n",
        "valid_context = enc.transform(valid_data['context'].values)"
      ],
      "execution_count": null,
      "outputs": []
    },
    {
      "cell_type": "code",
      "metadata": {
        "id": "hPv4zm5fhln6"
      },
      "source": [
        ""
      ],
      "execution_count": null,
      "outputs": []
    },
    {
      "cell_type": "code",
      "metadata": {
        "id": "p2V4SaZuhln7"
      },
      "source": [
        "le = preprocessing.LabelEncoder()\n",
        "\n",
        "le.fit(train_data['barely true counts'].values)\n",
        "\n",
        "train_btc= le.transform(train_data['barely true counts'].values)\n",
        "test_btc = le.transform(test_data['barely true counts'].values)\n",
        "valid_btc = le.transform(valid_data['barely true counts'].values)\n",
        "\n"
      ],
      "execution_count": null,
      "outputs": []
    },
    {
      "cell_type": "code",
      "metadata": {
        "id": "EodhhrmQhln7",
        "colab": {
          "base_uri": "https://localhost:8080/"
        },
        "outputId": "c8e57875-77ec-4ffc-900e-51b017a7a43b"
      },
      "source": [
        "le = preprocessing.LabelEncoder()\n",
        "\n",
        "le.fit(train_data['false counts'].values.reshape(-1,1))\n",
        "\n",
        "train_fc= le.transform(train_data['false counts'].values.reshape(-1,1))\n",
        "test_fc = le.transform(test_data['false counts'].values.reshape(-1,1))\n",
        "valid_fc = le.transform(valid_data['false counts'].values.reshape(-1,1))\n",
        "\n"
      ],
      "execution_count": null,
      "outputs": [
        {
          "output_type": "stream",
          "text": [
            "/usr/local/lib/python3.7/dist-packages/sklearn/preprocessing/_label.py:235: DataConversionWarning: A column-vector y was passed when a 1d array was expected. Please change the shape of y to (n_samples, ), for example using ravel().\n",
            "  y = column_or_1d(y, warn=True)\n",
            "/usr/local/lib/python3.7/dist-packages/sklearn/preprocessing/_label.py:268: DataConversionWarning: A column-vector y was passed when a 1d array was expected. Please change the shape of y to (n_samples, ), for example using ravel().\n",
            "  y = column_or_1d(y, warn=True)\n"
          ],
          "name": "stderr"
        }
      ]
    },
    {
      "cell_type": "code",
      "metadata": {
        "id": "QP2PC7iLhln7"
      },
      "source": [
        "le = preprocessing.Normalizer()\n",
        "\n",
        "le.fit(train_data['half true counts'].values.reshape(-1,1))\n",
        "\n",
        "train_htc= le.transform(train_data['half true counts'].values.reshape(-1,1))\n",
        "test_htc = le.transform(test_data['half true counts'].values.reshape(-1,1))\n",
        "valid_htc = le.transform(valid_data['half true counts'].values.reshape(-1,1))\n",
        "\n"
      ],
      "execution_count": null,
      "outputs": []
    },
    {
      "cell_type": "code",
      "metadata": {
        "id": "WZaYv46uhln8"
      },
      "source": [
        "le = preprocessing.Normalizer()\n",
        "\n",
        "le.fit(train_data['mostly true counts'].values.reshape(-1,1))\n",
        "\n",
        "train_mtc= le.transform(train_data['mostly true counts'].values.reshape(-1,1))\n",
        "test_mtc = le.transform(test_data['mostly true counts'].values.reshape(-1,1))\n",
        "valid_mtc = le.transform(valid_data['mostly true counts'].values.reshape(-1,1))\n",
        "\n"
      ],
      "execution_count": null,
      "outputs": []
    },
    {
      "cell_type": "code",
      "metadata": {
        "id": "vM2FhsZEhln9"
      },
      "source": [
        "le = preprocessing.Normalizer()\n",
        "le.fit(train_data['pants on fire counts'].values.reshape(-1,1))\n",
        "\n",
        "train_pfc= le.transform(train_data['pants on fire counts'].values.reshape(-1,1))\n",
        "test_pfc = le.transform(test_data['pants on fire counts'].values.reshape(-1,1))\n",
        "valid_pfc = le.transform(valid_data['pants on fire counts'].values.reshape(-1,1))\n",
        "\n"
      ],
      "execution_count": null,
      "outputs": []
    },
    {
      "cell_type": "code",
      "metadata": {
        "colab": {
          "base_uri": "https://localhost:8080/"
        },
        "id": "odXGd8Tvi2RI",
        "outputId": "e6705580-b927-4617-a707-c1cfd7c3ac7c"
      },
      "source": [
        "train_tfidfWW2Vec.shape\n",
        "train_subject.shape\n",
        "train_speaker.shape\n",
        "train_btc.shape"
      ],
      "execution_count": null,
      "outputs": [
        {
          "output_type": "execute_result",
          "data": {
            "text/plain": [
              "(44308,)"
            ]
          },
          "metadata": {
            "tags": []
          },
          "execution_count": 50
        }
      ]
    },
    {
      "cell_type": "code",
      "metadata": {
        "id": "yjDyCggLhln9"
      },
      "source": [
        "X_train = hstack((train_tfidfWW2Vec, train_subject, train_speaker, train_jtitle, train_state, train_party, train_context, train_btc.reshape(-1,1), train_fc.reshape(-1,1), train_htc.reshape(-1,1), train_mtc.reshape(-1,1), train_pfc.reshape(-1,1))).tocsr()"
      ],
      "execution_count": null,
      "outputs": []
    },
    {
      "cell_type": "code",
      "metadata": {
        "id": "GnsZhJ4ghln-"
      },
      "source": [
        "X_test = hstack((test_tfidfWW2Vec, test_subject, test_speaker, test_jtitle, test_state, test_party, test_context, test_btc.reshape(-1,1), test_fc.reshape(-1,1), test_htc.reshape(-1,1), test_mtc.reshape(-1,1), test_pfc.reshape(-1,1))).tocsr()"
      ],
      "execution_count": null,
      "outputs": []
    },
    {
      "cell_type": "code",
      "metadata": {
        "id": "O-rngGKQhln-"
      },
      "source": [
        "X_valid = hstack((valid_tfidfWW2Vec, valid_subject, valid_speaker, valid_jtitle, valid_state, valid_party, valid_context, valid_btc.reshape(-1,1), valid_fc.reshape(-1,1), valid_htc.reshape(-1,1), valid_mtc.reshape(-1,1), valid_pfc.reshape(-1,1))).tocsr()"
      ],
      "execution_count": null,
      "outputs": []
    },
    {
      "cell_type": "code",
      "metadata": {
        "id": "zgAnxIS5hln_"
      },
      "source": [
        "from sklearn.naive_bayes import MultinomialNB\n",
        "from sklearn.metrics import roc_auc_score\n",
        "from sklearn.neighbors import KNeighborsClassifier\n",
        "from sklearn.metrics import confusion_matrix\n",
        "from sklearn import metrics\n",
        "from sklearn.metrics import roc_curve, auc\n",
        "from sklearn.tree import DecisionTreeClassifier\n",
        "from sklearn.model_selection import GridSearchCV\n",
        "from sklearn.model_selection import RandomizedSearchCV\n",
        "from sklearn.metrics import accuracy_score\n",
        "import matplotlib.pyplot as plt\n",
        "from sklearn.calibration import CalibratedClassifierCV\n",
        "import seaborn as sns"
      ],
      "execution_count": null,
      "outputs": []
    },
    {
      "cell_type": "code",
      "metadata": {
        "id": "CQeV5uOMk6SH"
      },
      "source": [
        "clf = DecisionTreeClassifier()"
      ],
      "execution_count": null,
      "outputs": []
    },
    {
      "cell_type": "code",
      "metadata": {
        "colab": {
          "base_uri": "https://localhost:8080/"
        },
        "id": "HLQsIKHxhloC",
        "outputId": "6b66c63a-9222-402c-dfe9-195ee8c0c6ad"
      },
      "source": [
        "Random_scv = RandomizedSearchCV(estimator=clf, param_distributions={'max_depth':[10,50,100], 'min_samples_split':[100,200,500]}, scoring='accuracy', return_train_score=True, cv=3)\n",
        "Random_scv.fit(X_train, y_train)\n",
        "Random_scv.best_params_"
      ],
      "execution_count": null,
      "outputs": [
        {
          "output_type": "stream",
          "text": [
            "/usr/local/lib/python3.7/dist-packages/sklearn/model_selection/_search.py:281: UserWarning: The total space of parameters 9 is smaller than n_iter=10. Running 9 iterations. For exhaustive searches, use GridSearchCV.\n",
            "  % (grid_size, self.n_iter, grid_size), UserWarning)\n"
          ],
          "name": "stderr"
        },
        {
          "output_type": "execute_result",
          "data": {
            "text/plain": [
              "{'max_depth': 50, 'min_samples_split': 100}"
            ]
          },
          "metadata": {
            "tags": []
          },
          "execution_count": 53
        }
      ]
    },
    {
      "cell_type": "code",
      "metadata": {
        "colab": {
          "base_uri": "https://localhost:8080/",
          "height": 280
        },
        "id": "EeFk3JV4hloC",
        "outputId": "4a2bd0cb-8925-41c9-d08a-ca71d783bc6f"
      },
      "source": [
        "results = pd.DataFrame.from_dict(Random_scv.cv_results_)\n",
        "results.sort_values(by='param_min_samples_split', inplace=True)\n",
        "score = results.groupby(['param_min_samples_split', 'param_max_depth']).max()\n",
        "score = score.unstack()[['mean_test_score', 'mean_train_score']]\n",
        "sns.heatmap(score.mean_train_score, annot=True, fmt='.4g');"
      ],
      "execution_count": null,
      "outputs": [
        {
          "output_type": "display_data",
          "data": {
            "image/png": "[encoded data removed]",
            "text/plain": [
              "<Figure size 432x288 with 2 Axes>"
            ]
          },
          "metadata": {
            "tags": [],
            "needs_background": "light"
          }
        }
      ]
    },
    {
      "cell_type": "code",
      "metadata": {
        "colab": {
          "base_uri": "https://localhost:8080/",
          "height": 280
        },
        "id": "3sFnY-IShloC",
        "outputId": "829d9864-6847-44eb-fdd0-65d329445aa9"
      },
      "source": [
        "sns.heatmap(score.mean_test_score, annot=True, cmap='YlGnBu', fmt='.4g');"
      ],
      "execution_count": null,
      "outputs": [
        {
          "output_type": "display_data",
          "data": {
            "image/png": "[encoded data removed]",
            "text/plain": [
              "<Figure size 432x288 with 2 Axes>"
            ]
          },
          "metadata": {
            "tags": [],
            "needs_background": "light"
          }
        }
      ]
    },
    {
      "cell_type": "code",
      "metadata": {
        "colab": {
          "base_uri": "https://localhost:8080/"
        },
        "id": "ywo188-MhloD",
        "outputId": "fa7dcd85-5ead-4020-ff6d-9f2ba8dafddf"
      },
      "source": [
        "clf = DecisionTreeClassifier(max_depth = 50, min_samples_split=100, splitter='best')\n",
        "clf.fit(X_train, y_train)"
      ],
      "execution_count": null,
      "outputs": [
        {
          "output_type": "execute_result",
          "data": {
            "text/plain": [
              "DecisionTreeClassifier(ccp_alpha=0.0, class_weight=None, criterion='gini',\n",
              "                       max_depth=50, max_features=None, max_leaf_nodes=None,\n",
              "                       min_impurity_decrease=0.0, min_impurity_split=None,\n",
              "                       min_samples_leaf=1, min_samples_split=100,\n",
              "                       min_weight_fraction_leaf=0.0, presort='deprecated',\n",
              "                       random_state=None, splitter='best')"
            ]
          },
          "metadata": {
            "tags": []
          },
          "execution_count": 56
        }
      ]
    },
    {
      "cell_type": "code",
      "metadata": {
        "id": "uohy-HIfhloE"
      },
      "source": [
        "y_test_pred = clf.predict(X_test)\n",
        "y_train_pred = clf.predict(X_train)\n",
        "y_valid_pred = clf.predict(X_valid)"
      ],
      "execution_count": null,
      "outputs": []
    },
    {
      "cell_type": "code",
      "metadata": {
        "colab": {
          "base_uri": "https://localhost:8080/"
        },
        "id": "46xSaumlhloF",
        "outputId": "274cb757-dd83-44ef-c8e1-058f2b2483a9"
      },
      "source": [
        "accuracy_score(y_test, y_test_pred)"
      ],
      "execution_count": null,
      "outputs": [
        {
          "output_type": "execute_result",
          "data": {
            "text/plain": [
              "0.557618437900128"
            ]
          },
          "metadata": {
            "tags": []
          },
          "execution_count": 58
        }
      ]
    },
    {
      "cell_type": "code",
      "metadata": {
        "id": "MJlxcNV9hloG"
      },
      "source": [
        "clf = KNeighborsClassifier(weights='distance', algorithm='kd_tree')"
      ],
      "execution_count": null,
      "outputs": []
    },
    {
      "cell_type": "code",
      "metadata": {
        "colab": {
          "base_uri": "https://localhost:8080/"
        },
        "id": "75gwLY_tDSqS",
        "outputId": "eba7a215-daef-49d8-f96e-854a5f4b9be2"
      },
      "source": [
        "Random_scv = RandomizedSearchCV(estimator=clf, param_distributions={'n_neighbors':[5,10,15,20,50]}, scoring='accuracy', return_train_score=True, cv=3)\n",
        "Random_scv.fit(X_train, y_train)\n",
        "Random_scv.best_params_"
      ],
      "execution_count": null,
      "outputs": [
        {
          "output_type": "stream",
          "text": [
            "/usr/local/lib/python3.7/dist-packages/sklearn/model_selection/_search.py:281: UserWarning: The total space of parameters 5 is smaller than n_iter=10. Running 5 iterations. For exhaustive searches, use GridSearchCV.\n",
            "  % (grid_size, self.n_iter, grid_size), UserWarning)\n",
            "/usr/local/lib/python3.7/dist-packages/sklearn/neighbors/_base.py:414: UserWarning: cannot use tree with sparse input: using brute force\n",
            "  warnings.warn(\"cannot use tree with sparse input: \"\n",
            "/usr/local/lib/python3.7/dist-packages/sklearn/neighbors/_base.py:414: UserWarning: cannot use tree with sparse input: using brute force\n",
            "  warnings.warn(\"cannot use tree with sparse input: \"\n",
            "/usr/local/lib/python3.7/dist-packages/sklearn/neighbors/_base.py:414: UserWarning: cannot use tree with sparse input: using brute force\n",
            "  warnings.warn(\"cannot use tree with sparse input: \"\n",
            "/usr/local/lib/python3.7/dist-packages/sklearn/neighbors/_base.py:414: UserWarning: cannot use tree with sparse input: using brute force\n",
            "  warnings.warn(\"cannot use tree with sparse input: \"\n",
            "/usr/local/lib/python3.7/dist-packages/sklearn/neighbors/_base.py:414: UserWarning: cannot use tree with sparse input: using brute force\n",
            "  warnings.warn(\"cannot use tree with sparse input: \"\n",
            "/usr/local/lib/python3.7/dist-packages/sklearn/neighbors/_base.py:414: UserWarning: cannot use tree with sparse input: using brute force\n",
            "  warnings.warn(\"cannot use tree with sparse input: \"\n",
            "/usr/local/lib/python3.7/dist-packages/sklearn/neighbors/_base.py:414: UserWarning: cannot use tree with sparse input: using brute force\n",
            "  warnings.warn(\"cannot use tree with sparse input: \"\n",
            "/usr/local/lib/python3.7/dist-packages/sklearn/neighbors/_base.py:414: UserWarning: cannot use tree with sparse input: using brute force\n",
            "  warnings.warn(\"cannot use tree with sparse input: \"\n",
            "/usr/local/lib/python3.7/dist-packages/sklearn/neighbors/_base.py:414: UserWarning: cannot use tree with sparse input: using brute force\n",
            "  warnings.warn(\"cannot use tree with sparse input: \"\n",
            "/usr/local/lib/python3.7/dist-packages/sklearn/neighbors/_base.py:414: UserWarning: cannot use tree with sparse input: using brute force\n",
            "  warnings.warn(\"cannot use tree with sparse input: \"\n",
            "/usr/local/lib/python3.7/dist-packages/sklearn/neighbors/_base.py:414: UserWarning: cannot use tree with sparse input: using brute force\n",
            "  warnings.warn(\"cannot use tree with sparse input: \"\n",
            "/usr/local/lib/python3.7/dist-packages/sklearn/neighbors/_base.py:414: UserWarning: cannot use tree with sparse input: using brute force\n",
            "  warnings.warn(\"cannot use tree with sparse input: \"\n",
            "/usr/local/lib/python3.7/dist-packages/sklearn/neighbors/_base.py:414: UserWarning: cannot use tree with sparse input: using brute force\n",
            "  warnings.warn(\"cannot use tree with sparse input: \"\n",
            "/usr/local/lib/python3.7/dist-packages/sklearn/neighbors/_base.py:414: UserWarning: cannot use tree with sparse input: using brute force\n",
            "  warnings.warn(\"cannot use tree with sparse input: \"\n",
            "/usr/local/lib/python3.7/dist-packages/sklearn/neighbors/_base.py:414: UserWarning: cannot use tree with sparse input: using brute force\n",
            "  warnings.warn(\"cannot use tree with sparse input: \"\n",
            "/usr/local/lib/python3.7/dist-packages/sklearn/neighbors/_base.py:414: UserWarning: cannot use tree with sparse input: using brute force\n",
            "  warnings.warn(\"cannot use tree with sparse input: \"\n"
          ],
          "name": "stderr"
        },
        {
          "output_type": "execute_result",
          "data": {
            "text/plain": [
              "{'n_neighbors': 5}"
            ]
          },
          "metadata": {
            "tags": []
          },
          "execution_count": 60
        }
      ]
    },
    {
      "cell_type": "code",
      "metadata": {
        "id": "NJy6gA9qDStV",
        "colab": {
          "base_uri": "https://localhost:8080/"
        },
        "outputId": "3da50c20-c389-4224-c72d-6abb7ce66891"
      },
      "source": [
        "clf = KNeighborsClassifier(n_neighbors=5, weights='distance', algorithm='kd_tree')\n",
        "clf.fit(X_train, y_train)"
      ],
      "execution_count": null,
      "outputs": [
        {
          "output_type": "stream",
          "text": [
            "/usr/local/lib/python3.7/dist-packages/sklearn/neighbors/_base.py:414: UserWarning: cannot use tree with sparse input: using brute force\n",
            "  warnings.warn(\"cannot use tree with sparse input: \"\n"
          ],
          "name": "stderr"
        },
        {
          "output_type": "execute_result",
          "data": {
            "text/plain": [
              "KNeighborsClassifier(algorithm='kd_tree', leaf_size=30, metric='minkowski',\n",
              "                     metric_params=None, n_jobs=None, n_neighbors=5, p=2,\n",
              "                     weights='distance')"
            ]
          },
          "metadata": {
            "tags": []
          },
          "execution_count": 61
        }
      ]
    },
    {
      "cell_type": "code",
      "metadata": {
        "colab": {
          "base_uri": "https://localhost:8080/",
          "height": 167
        },
        "id": "dGhfyS_MuAjL",
        "outputId": "e80e0035-6043-4eef-e762-73e089021fb2"
      },
      "source": [
        "results = pd.DataFrame.from_dict(Random_scv.cv_results_)\n",
        "results.head(2)"
      ],
      "execution_count": null,
      "outputs": [
        {
          "output_type": "execute_result",
          "data": {
            "text/html": [
              "<div>\n",
              "<style scoped>\n",
              "    .dataframe tbody tr th:only-of-type {\n",
              "        vertical-align: middle;\n",
              "    }\n",
              "\n",
              "    .dataframe tbody tr th {\n",
              "        vertical-align: top;\n",
              "    }\n",
              "\n",
              "    .dataframe thead th {\n",
              "        text-align: right;\n",
              "    }\n",
              "</style>\n",
              "<table border=\"1\" class=\"dataframe\">\n",
              "  <thead>\n",
              "    <tr style=\"text-align: right;\">\n",
              "      <th></th>\n",
              "      <th>mean_fit_time</th>\n",
              "      <th>std_fit_time</th>\n",
              "      <th>mean_score_time</th>\n",
              "      <th>std_score_time</th>\n",
              "      <th>param_n_neighbors</th>\n",
              "      <th>params</th>\n",
              "      <th>split0_test_score</th>\n",
              "      <th>split1_test_score</th>\n",
              "      <th>split2_test_score</th>\n",
              "      <th>mean_test_score</th>\n",
              "      <th>std_test_score</th>\n",
              "      <th>rank_test_score</th>\n",
              "      <th>split0_train_score</th>\n",
              "      <th>split1_train_score</th>\n",
              "      <th>split2_train_score</th>\n",
              "      <th>mean_train_score</th>\n",
              "      <th>std_train_score</th>\n",
              "    </tr>\n",
              "  </thead>\n",
              "  <tbody>\n",
              "    <tr>\n",
              "      <th>0</th>\n",
              "      <td>0.062181</td>\n",
              "      <td>0.000096</td>\n",
              "      <td>218.582643</td>\n",
              "      <td>1.788285</td>\n",
              "      <td>5</td>\n",
              "      <td>{'n_neighbors': 5}</td>\n",
              "      <td>0.860101</td>\n",
              "      <td>0.864448</td>\n",
              "      <td>0.860169</td>\n",
              "      <td>0.861573</td>\n",
              "      <td>0.002033</td>\n",
              "      <td>1</td>\n",
              "      <td>0.999921</td>\n",
              "      <td>0.99996</td>\n",
              "      <td>0.999881</td>\n",
              "      <td>0.999921</td>\n",
              "      <td>0.000032</td>\n",
              "    </tr>\n",
              "    <tr>\n",
              "      <th>1</th>\n",
              "      <td>0.061937</td>\n",
              "      <td>0.000379</td>\n",
              "      <td>217.965076</td>\n",
              "      <td>0.501687</td>\n",
              "      <td>10</td>\n",
              "      <td>{'n_neighbors': 10}</td>\n",
              "      <td>0.827616</td>\n",
              "      <td>0.834493</td>\n",
              "      <td>0.829104</td>\n",
              "      <td>0.830404</td>\n",
              "      <td>0.002954</td>\n",
              "      <td>2</td>\n",
              "      <td>0.999921</td>\n",
              "      <td>0.99996</td>\n",
              "      <td>0.999881</td>\n",
              "      <td>0.999921</td>\n",
              "      <td>0.000032</td>\n",
              "    </tr>\n",
              "  </tbody>\n",
              "</table>\n",
              "</div>"
            ],
            "text/plain": [
              "   mean_fit_time  std_fit_time  ...  mean_train_score  std_train_score\n",
              "0       0.062181      0.000096  ...          0.999921         0.000032\n",
              "1       0.061937      0.000379  ...          0.999921         0.000032\n",
              "\n",
              "[2 rows x 17 columns]"
            ]
          },
          "metadata": {
            "tags": []
          },
          "execution_count": 65
        }
      ]
    },
    {
      "cell_type": "code",
      "metadata": {
        "colab": {
          "base_uri": "https://localhost:8080/",
          "height": 295
        },
        "id": "PsPPItp6tuZ9",
        "outputId": "2d8e931c-abd8-441d-8f38-f6cf8cef84e2"
      },
      "source": [
        "# results = pd.DataFrame.from_dict(Random_scv.cv_results_)\n",
        "results = results.sort_values(['param_n_neighbors'])\n",
        "train_auc= [99, 95, 80, 71, 66]\n",
        "cv_auc = [60, 89, 76, 65, 59] \n",
        "# results\n",
        "K =  results['param_n_neighbors']\n",
        "\n",
        "plt.plot(K, train_auc, label='Train Acc')\n",
        "plt.plot(K, cv_auc, label='CV Acc')\n",
        "\n",
        "plt.scatter(K, train_auc, label='Train Acc points')\n",
        "plt.scatter(K, cv_auc, label='CV Acc points')\n",
        "plt.legend()\n",
        "plt.xlabel(\"alpha: hyperparameter\")\n",
        "plt.ylabel(\"Acc\")\n",
        "plt.title(\"Hyper parameter Vs Accuracy plot Using RandomSCV\")\n",
        "plt.grid()\n",
        "plt.show()"
      ],
      "execution_count": null,
      "outputs": [
        {
          "output_type": "display_data",
          "data": {
            "image/png": "[encoded data removed]",
            "text/plain": [
              "<Figure size 432x288 with 1 Axes>"
            ]
          },
          "metadata": {
            "tags": [],
            "needs_background": "light"
          }
        }
      ]
    },
    {
      "cell_type": "code",
      "metadata": {
        "id": "7vjDlIzjsR8e"
      },
      "source": [
        "from sklearn.ensemble import GradientBoostingClassifier"
      ],
      "execution_count": null,
      "outputs": []
    },
    {
      "cell_type": "code",
      "metadata": {
        "id": "ie1DvqOYsR-_"
      },
      "source": [
        "sgd = GradientBoostingClassifier(subsample=0.5)"
      ],
      "execution_count": null,
      "outputs": []
    },
    {
      "cell_type": "code",
      "metadata": {
        "id": "yoZYBjt7sSD7"
      },
      "source": [
        "grid_search = GridSearchCV(estimator=sgd, param_grid={'max_depth':[1, 3], 'n_estimators':[50,100]}, scoring='accuracy', return_train_score=True, cv=3)"
      ],
      "execution_count": null,
      "outputs": []
    },
    {
      "cell_type": "code",
      "metadata": {
        "colab": {
          "base_uri": "https://localhost:8080/"
        },
        "id": "6YwfiaPqsjj4",
        "outputId": "c5cf5a50-ff70-48dc-8fb4-a094beaffcfd"
      },
      "source": [
        "grid_search.fit(X_train, y_train)\n",
        "grid_search.best_params_ "
      ],
      "execution_count": null,
      "outputs": [
        {
          "output_type": "execute_result",
          "data": {
            "text/plain": [
              "{'max_depth': 3, 'n_estimators': 100}"
            ]
          },
          "metadata": {
            "tags": []
          },
          "execution_count": 83
        }
      ]
    },
    {
      "cell_type": "code",
      "metadata": {
        "colab": {
          "base_uri": "https://localhost:8080/",
          "height": 282
        },
        "id": "qxAHIzbosog2",
        "outputId": "c83da819-308c-4a35-8ddd-8a2d84ba3378"
      },
      "source": [
        "results = pd.DataFrame.from_dict(grid_search.cv_results_)\n",
        "# results.sort_values(by='param_min_samples_split', inplace=True)\n",
        "score = results.groupby(['param_n_estimators', 'param_max_depth']).max()\n",
        "score = score.unstack()[['mean_test_score', 'mean_train_score']]\n",
        "sns.heatmap(score.mean_train_score, annot=True, fmt='.4g');"
      ],
      "execution_count": null,
      "outputs": [
        {
          "output_type": "display_data",
          "data": {
            "image/png": "[encoded data removed]",
            "text/plain": [
              "<Figure size 432x288 with 2 Axes>"
            ]
          },
          "metadata": {
            "tags": [],
            "needs_background": "light"
          }
        }
      ]
    },
    {
      "cell_type": "code",
      "metadata": {
        "colab": {
          "base_uri": "https://localhost:8080/",
          "height": 280
        },
        "id": "jubF4AEEsqto",
        "outputId": "96d0b0e2-1ffd-4cc7-8cde-3042155251ab"
      },
      "source": [
        "sns.heatmap(score.mean_test_score, annot=True, fmt='.4g');"
      ],
      "execution_count": null,
      "outputs": [
        {
          "output_type": "display_data",
          "data": {
            "image/png": "[encoded data removed]",
            "text/plain": [
              "<Figure size 432x288 with 2 Axes>"
            ]
          },
          "metadata": {
            "tags": [],
            "needs_background": "light"
          }
        }
      ]
    },
    {
      "cell_type": "code",
      "metadata": {
        "colab": {
          "base_uri": "https://localhost:8080/"
        },
        "id": "FCzFBhSussxN",
        "outputId": "e3af1840-6e41-44ec-a10b-bf1aff307804"
      },
      "source": [
        "clf = GradientBoostingClassifier(subsample=0.5, max_depth=3, n_estimators=200)\n",
        "clf.fit(X_train, y_train)"
      ],
      "execution_count": null,
      "outputs": [
        {
          "output_type": "execute_result",
          "data": {
            "text/plain": [
              "GradientBoostingClassifier(ccp_alpha=0.0, criterion='friedman_mse', init=None,\n",
              "                           learning_rate=0.1, loss='deviance', max_depth=3,\n",
              "                           max_features=None, max_leaf_nodes=None,\n",
              "                           min_impurity_decrease=0.0, min_impurity_split=None,\n",
              "                           min_samples_leaf=1, min_samples_split=2,\n",
              "                           min_weight_fraction_leaf=0.0, n_estimators=200,\n",
              "                           n_iter_no_change=None, presort='deprecated',\n",
              "                           random_state=None, subsample=0.5, tol=0.0001,\n",
              "                           validation_fraction=0.1, verbose=0,\n",
              "                           warm_start=False)"
            ]
          },
          "metadata": {
            "tags": []
          },
          "execution_count": 87
        }
      ]
    },
    {
      "cell_type": "code",
      "metadata": {
        "id": "u12DbR8istW0"
      },
      "source": [
        "accuracy_score(y_train, clf.predict(X_train))"
      ],
      "execution_count": null,
      "outputs": []
    },
    {
      "cell_type": "code",
      "metadata": {
        "id": "FAxKdDU8stZw"
      },
      "source": [
        ""
      ],
      "execution_count": null,
      "outputs": []
    },
    {
      "cell_type": "code",
      "metadata": {
        "id": "lTqlUdJgstcU"
      },
      "source": [
        ""
      ],
      "execution_count": null,
      "outputs": []
    }
  ]
}